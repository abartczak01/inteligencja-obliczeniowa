{
 "cells": [
  {
   "cell_type": "code",
   "execution_count": 1,
   "metadata": {},
   "outputs": [],
   "source": [
    "import pyswarms as ps\n",
    "from pyswarms.utils.functions import single_obj as fx\n",
    "import math\n",
    "import numpy as np\n",
    "from pyswarms.utils.plotters import plot_cost_history\n",
    "import matplotlib.pyplot as plt"
   ]
  },
  {
   "cell_type": "code",
   "execution_count": 13,
   "metadata": {},
   "outputs": [
    {
     "name": "stderr",
     "output_type": "stream",
     "text": [
      "2024-06-10 16:05:42,787 - pyswarms.single.global_best - INFO - Optimize for 200 iters with {'c1': 0.5, 'c2': 0.3, 'w': 0.9}\n",
      "pyswarms.single.global_best:   0%|          |0/200"
     ]
    },
    {
     "name": "stderr",
     "output_type": "stream",
     "text": [
      "pyswarms.single.global_best: 100%|██████████|200/200, best_cost=13\n",
      "2024-06-10 16:06:39,996 - pyswarms.single.global_best - INFO - Optimization finished | best cost: 13.0, best pos: [0.45349003 0.50550682 0.80866004 0.67899012 0.94018911 1.11299829\n",
      " 1.10399244 1.34778979 0.57392911 0.55101473 1.26896031 1.19678848\n",
      " 1.55375149 0.74124199 1.22595374 0.56984291 1.66335282 0.96189968\n",
      " 0.65658832 0.61379224 0.20819724 0.86954209 0.82192525 0.76196781\n",
      " 0.62136345 0.67148612 0.88239048 1.43990156 0.27688926 1.10079017\n",
      " 1.04939538 0.22408842 0.54950897 0.7705343  0.58651149 0.61207493\n",
      " 1.36076076 1.33086097 0.58660487 2.03169641]\n"
     ]
    },
    {
     "name": "stdout",
     "output_type": "stream",
     "text": [
      "Best cost: -13.0\n",
      "Best position: [0 1 1 1 1 1 1 1 1 1 1 1 2 1 1 1 2 1 1 1 0 1 1 1 1 1 1 1 0 1 1 0 1 1 1 1 1\n",
      " 1 1 2]\n"
     ]
    }
   ],
   "source": [
    "import gym\n",
    "import numpy as np\n",
    "import pyswarms as ps\n",
    "\n",
    "# Definicja funkcji oceny (fitness function)\n",
    "def fitness_func(position):\n",
    "    env = gym.make(\"CliffWalking-v0\")\n",
    "    observation = env.reset()\n",
    "    total_reward = 0\n",
    "    for action in position:\n",
    "        observation, reward, terminated, truncated, info = env.step(int(action))\n",
    "        total_reward += reward\n",
    "        if terminated or truncated:\n",
    "            break\n",
    "    env.close()\n",
    "    return total_reward\n",
    "\n",
    "# Funkcja oceny dla PSO\n",
    "def f(x):\n",
    "    n_particles = x.shape[0]\n",
    "    j = np.zeros(n_particles)\n",
    "    for i in range(n_particles):\n",
    "        # Zaokrąglamy wartości do najbliższej wartości dyskretnej 0, 1, 2, 3\n",
    "        x_discrete = np.rint(x[i]).astype(int)\n",
    "        x_discrete = np.clip(x_discrete, 0, 3)  # Upewniamy się, że wartości są w zakresie [0, 3]\n",
    "        j[i] = fitness_func(x_discrete)\n",
    "    return j\n",
    "\n",
    "# Skonfigurowanie optymalizacji PSO\n",
    "options = {'c1': 0.5, 'c2': 0.3, 'w': 0.9}\n",
    "\n",
    "# Ustawienia PSO\n",
    "optimizer = ps.single.GlobalBestPSO(n_particles=50, dimensions=40, options=options)\n",
    "\n",
    "# Uruchomienie optymalizacji\n",
    "cost, pos = optimizer.optimize(lambda x: -f(x), iters=200)\n",
    "\n",
    "# Zaokrąglamy wartości do najbliższej wartości dyskretnej 0, 1, 2, 3 dla najlepszego rozwiązania\n",
    "best_pos_discrete = np.rint(pos).astype(int)\n",
    "best_pos_discrete = np.clip(best_pos_discrete, 0, 3)\n",
    "\n",
    "print(\"Best cost:\", -cost)\n",
    "print(\"Best position:\", best_pos_discrete)\n"
   ]
  },
  {
   "cell_type": "code",
   "execution_count": 11,
   "metadata": {},
   "outputs": [
    {
     "name": "stdout",
     "output_type": "stream",
     "text": [
      "[0.37210291 0.80673272 0.92124652 0.94116696 0.98955191 1.44880502\n",
      " 1.0456662  0.70994207 1.00750244 0.86395721 1.13126279 0.88259581\n",
      " 1.73680183 1.18301241 0.92032565 0.4915611  1.3483455  1.45896588\n",
      " 0.68931584 1.1071081  1.2575308  0.86983569 0.13204134 0.27395079\n",
      " 0.7065969  1.80166812 1.75159057 1.27964779 1.51668376 0.6638157 ]\n"
     ]
    }
   ],
   "source": [
    "print(pos)\n",
    "# best_pos_discrete = np.rint(pos).astype(int)\n",
    "# best_pos_discrete = np.clip(best_pos_discrete, 0, 3)\n",
    "\n",
    "# print(\"Best cost:\", -cost)\n",
    "# print(\"Best position:\", best_pos_discrete)\n"
   ]
  },
  {
   "cell_type": "code",
   "execution_count": 12,
   "metadata": {},
   "outputs": [],
   "source": [
    "env = gym.make(\"CliffWalking-v0\", render_mode=\"human\")\n",
    "observation, info = env.reset(seed=42)\n",
    "for move in pos:\n",
    "    action = move\n",
    "    observation, reward, terminated, truncated, info = env.step(int(action))\n",
    "    if terminated or truncated:\n",
    "        break\n",
    "env.close()"
   ]
  }
 ],
 "metadata": {
  "kernelspec": {
   "display_name": "Python 3",
   "language": "python",
   "name": "python3"
  },
  "language_info": {
   "codemirror_mode": {
    "name": "ipython",
    "version": 3
   },
   "file_extension": ".py",
   "mimetype": "text/x-python",
   "name": "python",
   "nbconvert_exporter": "python",
   "pygments_lexer": "ipython3",
   "version": "3.10.12"
  }
 },
 "nbformat": 4,
 "nbformat_minor": 2
}
