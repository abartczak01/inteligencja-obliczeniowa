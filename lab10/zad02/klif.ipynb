{
 "cells": [
  {
   "cell_type": "code",
   "execution_count": 1,
   "metadata": {},
   "outputs": [],
   "source": [
    "import pyswarms as ps\n",
    "from pyswarms.utils.functions import single_obj as fx\n",
    "import math\n",
    "import numpy as np\n",
    "from pyswarms.utils.plotters import plot_cost_history\n",
    "import matplotlib.pyplot as plt"
   ]
  },
  {
   "cell_type": "code",
   "execution_count": 2,
   "metadata": {},
   "outputs": [
    {
     "name": "stderr",
     "output_type": "stream",
     "text": [
      "2024-06-13 12:18:52,471 - pyswarms.single.global_best - INFO - Optimize for 200 iters with {'c1': 0.5, 'c2': 0.3, 'w': 0.9}\n",
      "pyswarms.single.global_best:   0%|          |0/200/home/agata/.local/lib/python3.10/site-packages/gym/utils/passive_env_checker.py:233: DeprecationWarning: `np.bool8` is a deprecated alias for `np.bool_`.  (Deprecated NumPy 1.24)\n",
      "  if not isinstance(terminated, (bool, np.bool8)):\n",
      "pyswarms.single.global_best:  64%|██████▍   |128/200, best_cost=13\n"
     ]
    },
    {
     "ename": "KeyboardInterrupt",
     "evalue": "",
     "output_type": "error",
     "traceback": [
      "\u001b[0;31m---------------------------------------------------------------------------\u001b[0m",
      "\u001b[0;31mKeyboardInterrupt\u001b[0m                         Traceback (most recent call last)",
      "Cell \u001b[0;32mIn[2], line 36\u001b[0m\n\u001b[1;32m     33\u001b[0m optimizer \u001b[38;5;241m=\u001b[39m ps\u001b[38;5;241m.\u001b[39msingle\u001b[38;5;241m.\u001b[39mGlobalBestPSO(n_particles\u001b[38;5;241m=\u001b[39m\u001b[38;5;241m50\u001b[39m, dimensions\u001b[38;5;241m=\u001b[39m\u001b[38;5;241m40\u001b[39m, options\u001b[38;5;241m=\u001b[39moptions)\n\u001b[1;32m     35\u001b[0m \u001b[38;5;66;03m# Uruchomienie optymalizacji\u001b[39;00m\n\u001b[0;32m---> 36\u001b[0m cost, pos \u001b[38;5;241m=\u001b[39m \u001b[43moptimizer\u001b[49m\u001b[38;5;241;43m.\u001b[39;49m\u001b[43moptimize\u001b[49m\u001b[43m(\u001b[49m\u001b[38;5;28;43;01mlambda\u001b[39;49;00m\u001b[43m \u001b[49m\u001b[43mx\u001b[49m\u001b[43m:\u001b[49m\u001b[43m \u001b[49m\u001b[38;5;241;43m-\u001b[39;49m\u001b[43mf\u001b[49m\u001b[43m(\u001b[49m\u001b[43mx\u001b[49m\u001b[43m)\u001b[49m\u001b[43m,\u001b[49m\u001b[43m \u001b[49m\u001b[43miters\u001b[49m\u001b[38;5;241;43m=\u001b[39;49m\u001b[38;5;241;43m200\u001b[39;49m\u001b[43m)\u001b[49m\n\u001b[1;32m     38\u001b[0m \u001b[38;5;66;03m# Zaokrąglamy wartości do najbliższej wartości dyskretnej 0, 1, 2, 3 dla najlepszego rozwiązania\u001b[39;00m\n\u001b[1;32m     39\u001b[0m best_pos_discrete \u001b[38;5;241m=\u001b[39m np\u001b[38;5;241m.\u001b[39mrint(pos)\u001b[38;5;241m.\u001b[39mastype(\u001b[38;5;28mint\u001b[39m)\n",
      "File \u001b[0;32m~/.local/lib/python3.10/site-packages/pyswarms/single/global_best.py:209\u001b[0m, in \u001b[0;36mGlobalBestPSO.optimize\u001b[0;34m(self, objective_func, iters, n_processes, verbose, **kwargs)\u001b[0m\n\u001b[1;32m    205\u001b[0m ftol_history \u001b[38;5;241m=\u001b[39m deque(maxlen\u001b[38;5;241m=\u001b[39m\u001b[38;5;28mself\u001b[39m\u001b[38;5;241m.\u001b[39mftol_iter)\n\u001b[1;32m    206\u001b[0m \u001b[38;5;28;01mfor\u001b[39;00m i \u001b[38;5;129;01min\u001b[39;00m \u001b[38;5;28mself\u001b[39m\u001b[38;5;241m.\u001b[39mrep\u001b[38;5;241m.\u001b[39mpbar(iters, \u001b[38;5;28mself\u001b[39m\u001b[38;5;241m.\u001b[39mname) \u001b[38;5;28;01mif\u001b[39;00m verbose \u001b[38;5;28;01melse\u001b[39;00m \u001b[38;5;28mrange\u001b[39m(iters):\n\u001b[1;32m    207\u001b[0m     \u001b[38;5;66;03m# Compute cost for current position and personal best\u001b[39;00m\n\u001b[1;32m    208\u001b[0m     \u001b[38;5;66;03m# fmt: off\u001b[39;00m\n\u001b[0;32m--> 209\u001b[0m     \u001b[38;5;28mself\u001b[39m\u001b[38;5;241m.\u001b[39mswarm\u001b[38;5;241m.\u001b[39mcurrent_cost \u001b[38;5;241m=\u001b[39m \u001b[43mcompute_objective_function\u001b[49m\u001b[43m(\u001b[49m\u001b[38;5;28;43mself\u001b[39;49m\u001b[38;5;241;43m.\u001b[39;49m\u001b[43mswarm\u001b[49m\u001b[43m,\u001b[49m\u001b[43m \u001b[49m\u001b[43mobjective_func\u001b[49m\u001b[43m,\u001b[49m\u001b[43m \u001b[49m\u001b[43mpool\u001b[49m\u001b[38;5;241;43m=\u001b[39;49m\u001b[43mpool\u001b[49m\u001b[43m,\u001b[49m\u001b[43m \u001b[49m\u001b[38;5;241;43m*\u001b[39;49m\u001b[38;5;241;43m*\u001b[39;49m\u001b[43mkwargs\u001b[49m\u001b[43m)\u001b[49m\n\u001b[1;32m    210\u001b[0m     \u001b[38;5;28mself\u001b[39m\u001b[38;5;241m.\u001b[39mswarm\u001b[38;5;241m.\u001b[39mpbest_pos, \u001b[38;5;28mself\u001b[39m\u001b[38;5;241m.\u001b[39mswarm\u001b[38;5;241m.\u001b[39mpbest_cost \u001b[38;5;241m=\u001b[39m compute_pbest(\u001b[38;5;28mself\u001b[39m\u001b[38;5;241m.\u001b[39mswarm)\n\u001b[1;32m    211\u001b[0m     \u001b[38;5;66;03m# Set best_cost_yet_found for ftol\u001b[39;00m\n",
      "File \u001b[0;32m~/.local/lib/python3.10/site-packages/pyswarms/backend/operators.py:239\u001b[0m, in \u001b[0;36mcompute_objective_function\u001b[0;34m(swarm, objective_func, pool, **kwargs)\u001b[0m\n\u001b[1;32m    214\u001b[0m \u001b[38;5;250m\u001b[39m\u001b[38;5;124;03m\"\"\"Evaluate particles using the objective function\u001b[39;00m\n\u001b[1;32m    215\u001b[0m \n\u001b[1;32m    216\u001b[0m \u001b[38;5;124;03mThis method evaluates each particle in the swarm according to the objective\u001b[39;00m\n\u001b[0;32m   (...)\u001b[0m\n\u001b[1;32m    236\u001b[0m \u001b[38;5;124;03m    Cost-matrix for the given swarm\u001b[39;00m\n\u001b[1;32m    237\u001b[0m \u001b[38;5;124;03m\"\"\"\u001b[39;00m\n\u001b[1;32m    238\u001b[0m \u001b[38;5;28;01mif\u001b[39;00m pool \u001b[38;5;129;01mis\u001b[39;00m \u001b[38;5;28;01mNone\u001b[39;00m:\n\u001b[0;32m--> 239\u001b[0m     \u001b[38;5;28;01mreturn\u001b[39;00m \u001b[43mobjective_func\u001b[49m\u001b[43m(\u001b[49m\u001b[43mswarm\u001b[49m\u001b[38;5;241;43m.\u001b[39;49m\u001b[43mposition\u001b[49m\u001b[43m,\u001b[49m\u001b[43m \u001b[49m\u001b[38;5;241;43m*\u001b[39;49m\u001b[38;5;241;43m*\u001b[39;49m\u001b[43mkwargs\u001b[49m\u001b[43m)\u001b[49m\n\u001b[1;32m    240\u001b[0m \u001b[38;5;28;01melse\u001b[39;00m:\n\u001b[1;32m    241\u001b[0m     results \u001b[38;5;241m=\u001b[39m pool\u001b[38;5;241m.\u001b[39mmap(\n\u001b[1;32m    242\u001b[0m         partial(objective_func, \u001b[38;5;241m*\u001b[39m\u001b[38;5;241m*\u001b[39mkwargs),\n\u001b[1;32m    243\u001b[0m         np\u001b[38;5;241m.\u001b[39marray_split(swarm\u001b[38;5;241m.\u001b[39mposition, pool\u001b[38;5;241m.\u001b[39m_processes),\n\u001b[1;32m    244\u001b[0m     )\n",
      "Cell \u001b[0;32mIn[2], line 36\u001b[0m, in \u001b[0;36m<lambda>\u001b[0;34m(x)\u001b[0m\n\u001b[1;32m     33\u001b[0m optimizer \u001b[38;5;241m=\u001b[39m ps\u001b[38;5;241m.\u001b[39msingle\u001b[38;5;241m.\u001b[39mGlobalBestPSO(n_particles\u001b[38;5;241m=\u001b[39m\u001b[38;5;241m50\u001b[39m, dimensions\u001b[38;5;241m=\u001b[39m\u001b[38;5;241m40\u001b[39m, options\u001b[38;5;241m=\u001b[39moptions)\n\u001b[1;32m     35\u001b[0m \u001b[38;5;66;03m# Uruchomienie optymalizacji\u001b[39;00m\n\u001b[0;32m---> 36\u001b[0m cost, pos \u001b[38;5;241m=\u001b[39m optimizer\u001b[38;5;241m.\u001b[39moptimize(\u001b[38;5;28;01mlambda\u001b[39;00m x: \u001b[38;5;241m-\u001b[39m\u001b[43mf\u001b[49m\u001b[43m(\u001b[49m\u001b[43mx\u001b[49m\u001b[43m)\u001b[49m, iters\u001b[38;5;241m=\u001b[39m\u001b[38;5;241m200\u001b[39m)\n\u001b[1;32m     38\u001b[0m \u001b[38;5;66;03m# Zaokrąglamy wartości do najbliższej wartości dyskretnej 0, 1, 2, 3 dla najlepszego rozwiązania\u001b[39;00m\n\u001b[1;32m     39\u001b[0m best_pos_discrete \u001b[38;5;241m=\u001b[39m np\u001b[38;5;241m.\u001b[39mrint(pos)\u001b[38;5;241m.\u001b[39mastype(\u001b[38;5;28mint\u001b[39m)\n",
      "Cell \u001b[0;32mIn[2], line 26\u001b[0m, in \u001b[0;36mf\u001b[0;34m(x)\u001b[0m\n\u001b[1;32m     24\u001b[0m     x_discrete \u001b[38;5;241m=\u001b[39m np\u001b[38;5;241m.\u001b[39mrint(x[i])\u001b[38;5;241m.\u001b[39mastype(\u001b[38;5;28mint\u001b[39m)\n\u001b[1;32m     25\u001b[0m     x_discrete \u001b[38;5;241m=\u001b[39m np\u001b[38;5;241m.\u001b[39mclip(x_discrete, \u001b[38;5;241m0\u001b[39m, \u001b[38;5;241m3\u001b[39m)  \u001b[38;5;66;03m# Upewniamy się, że wartości są w zakresie [0, 3]\u001b[39;00m\n\u001b[0;32m---> 26\u001b[0m     j[i] \u001b[38;5;241m=\u001b[39m \u001b[43mfitness_func\u001b[49m\u001b[43m(\u001b[49m\u001b[43mx_discrete\u001b[49m\u001b[43m)\u001b[49m\n\u001b[1;32m     27\u001b[0m \u001b[38;5;28;01mreturn\u001b[39;00m j\n",
      "Cell \u001b[0;32mIn[2], line 7\u001b[0m, in \u001b[0;36mfitness_func\u001b[0;34m(position)\u001b[0m\n\u001b[1;32m      6\u001b[0m \u001b[38;5;28;01mdef\u001b[39;00m \u001b[38;5;21mfitness_func\u001b[39m(position):\n\u001b[0;32m----> 7\u001b[0m     env \u001b[38;5;241m=\u001b[39m \u001b[43mgym\u001b[49m\u001b[38;5;241;43m.\u001b[39;49m\u001b[43mmake\u001b[49m\u001b[43m(\u001b[49m\u001b[38;5;124;43m\"\u001b[39;49m\u001b[38;5;124;43mCliffWalking-v0\u001b[39;49m\u001b[38;5;124;43m\"\u001b[39;49m\u001b[43m)\u001b[49m\n\u001b[1;32m      8\u001b[0m     observation \u001b[38;5;241m=\u001b[39m env\u001b[38;5;241m.\u001b[39mreset()\n\u001b[1;32m      9\u001b[0m     total_reward \u001b[38;5;241m=\u001b[39m \u001b[38;5;241m0\u001b[39m\n",
      "File \u001b[0;32m~/.local/lib/python3.10/site-packages/gym/envs/registration.py:583\u001b[0m, in \u001b[0;36mmake\u001b[0;34m(id, max_episode_steps, autoreset, apply_api_compatibility, disable_env_checker, **kwargs)\u001b[0m\n\u001b[1;32m    579\u001b[0m \u001b[38;5;28;01melse\u001b[39;00m:\n\u001b[1;32m    580\u001b[0m     \u001b[38;5;66;03m# Assume it's a string\u001b[39;00m\n\u001b[1;32m    581\u001b[0m     env_creator \u001b[38;5;241m=\u001b[39m load(spec_\u001b[38;5;241m.\u001b[39mentry_point)\n\u001b[0;32m--> 583\u001b[0m mode \u001b[38;5;241m=\u001b[39m \u001b[43m_kwargs\u001b[49m\u001b[38;5;241;43m.\u001b[39;49m\u001b[43mget\u001b[49m\u001b[43m(\u001b[49m\u001b[38;5;124;43m\"\u001b[39;49m\u001b[38;5;124;43mrender_mode\u001b[39;49m\u001b[38;5;124;43m\"\u001b[39;49m\u001b[43m)\u001b[49m\n\u001b[1;32m    584\u001b[0m apply_human_rendering \u001b[38;5;241m=\u001b[39m \u001b[38;5;28;01mFalse\u001b[39;00m\n\u001b[1;32m    585\u001b[0m apply_render_collection \u001b[38;5;241m=\u001b[39m \u001b[38;5;28;01mFalse\u001b[39;00m\n",
      "\u001b[0;31mKeyboardInterrupt\u001b[0m: "
     ]
    }
   ],
   "source": [
    "import gym\n",
    "import numpy as np\n",
    "import pyswarms as ps\n",
    "\n",
    "# Definicja funkcji oceny (fitness function)\n",
    "def fitness_func(position):\n",
    "    env = gym.make(\"CliffWalking-v0\")\n",
    "    observation = env.reset()\n",
    "    total_reward = 0\n",
    "    for action in position:\n",
    "        observation, reward, terminated, truncated, info = env.step(int(action))\n",
    "        total_reward += reward\n",
    "        if terminated or truncated:\n",
    "            break\n",
    "    env.close()\n",
    "    return total_reward\n",
    "\n",
    "# Funkcja oceny dla PSO\n",
    "def f(x):\n",
    "    n_particles = x.shape[0]\n",
    "    j = np.zeros(n_particles)\n",
    "    for i in range(n_particles):\n",
    "        # Zaokrąglamy wartości do najbliższej wartości dyskretnej 0, 1, 2, 3\n",
    "        x_discrete = np.rint(x[i]).astype(int)\n",
    "        x_discrete = np.clip(x_discrete, 0, 3)  # Upewniamy się, że wartości są w zakresie [0, 3]\n",
    "        j[i] = fitness_func(x_discrete)\n",
    "    return j\n",
    "\n",
    "# Skonfigurowanie optymalizacji PSO\n",
    "options = {'c1': 0.5, 'c2': 0.3, 'w': 0.9}\n",
    "\n",
    "# Ustawienia PSO\n",
    "optimizer = ps.single.GlobalBestPSO(n_particles=50, dimensions=40, options=options)\n",
    "\n",
    "# Uruchomienie optymalizacji\n",
    "cost, pos = optimizer.optimize(lambda x: -f(x), iters=200)\n",
    "\n",
    "# Zaokrąglamy wartości do najbliższej wartości dyskretnej 0, 1, 2, 3 dla najlepszego rozwiązania\n",
    "best_pos_discrete = np.rint(pos).astype(int)\n",
    "best_pos_discrete = np.clip(best_pos_discrete, 0, 3)\n",
    "\n",
    "print(\"Best cost:\", -cost)\n",
    "print(\"Best position:\", best_pos_discrete)\n"
   ]
  },
  {
   "cell_type": "code",
   "execution_count": 3,
   "metadata": {},
   "outputs": [
    {
     "name": "stdout",
     "output_type": "stream",
     "text": [
      "[0.25679208 1.45202558 1.17855922 0.94567094 0.99672433 0.92801717\n",
      " 1.43550912 1.47482683 1.19768814 1.3704861  0.97980308 1.36274254\n",
      " 1.73892217 0.40339515 1.61892262 1.4201922  1.2301886  0.55894035\n",
      " 1.06539868 1.14856757 0.1812516  1.46204597 1.254684   0.90790001\n",
      " 1.10646084 1.59194433 1.30816933 2.06699348 0.81255533 1.56252161\n",
      " 0.98694581 1.29130569 0.92976491 1.17418254 1.93387347 2.33603966\n",
      " 1.83502724 1.01816421 1.68223637 0.67345862]\n"
     ]
    }
   ],
   "source": [
    "print(pos)\n",
    "# best_pos_discrete = np.rint(pos).astype(int)\n",
    "# best_pos_discrete = np.clip(best_pos_discrete, 0, 3)\n",
    "\n",
    "# print(\"Best cost:\", -cost)\n",
    "# print(\"Best position:\", best_pos_discrete)\n"
   ]
  },
  {
   "cell_type": "code",
   "execution_count": 4,
   "metadata": {},
   "outputs": [
    {
     "name": "stderr",
     "output_type": "stream",
     "text": [
      "/home/agata/.local/lib/python3.10/site-packages/gym/utils/passive_env_checker.py:233: DeprecationWarning: `np.bool8` is a deprecated alias for `np.bool_`.  (Deprecated NumPy 1.24)\n",
      "  if not isinstance(terminated, (bool, np.bool8)):\n"
     ]
    }
   ],
   "source": [
    "env = gym.make(\"CliffWalking-v0\", render_mode=\"human\")\n",
    "observation, info = env.reset(seed=42)\n",
    "for move in pos:\n",
    "    action = move\n",
    "    observation, reward, terminated, truncated, info = env.step(int(action))\n",
    "    if terminated or truncated:\n",
    "        break\n",
    "env.close()"
   ]
  }
 ],
 "metadata": {
  "kernelspec": {
   "display_name": "Python 3",
   "language": "python",
   "name": "python3"
  },
  "language_info": {
   "codemirror_mode": {
    "name": "ipython",
    "version": 3
   },
   "file_extension": ".py",
   "mimetype": "text/x-python",
   "name": "python",
   "nbconvert_exporter": "python",
   "pygments_lexer": "ipython3",
   "version": "3.10.12"
  }
 },
 "nbformat": 4,
 "nbformat_minor": 2
}
