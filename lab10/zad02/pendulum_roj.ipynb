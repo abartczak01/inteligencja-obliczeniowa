{
 "cells": [
  {
   "cell_type": "code",
   "execution_count": 1,
   "metadata": {},
   "outputs": [],
   "source": [
    "import pyswarms as ps\n",
    "from pyswarms.utils.functions import single_obj as fx\n",
    "import math\n",
    "import numpy as np\n",
    "from pyswarms.utils.plotters import plot_cost_history\n",
    "import matplotlib.pyplot as plt"
   ]
  },
  {
   "cell_type": "code",
   "execution_count": 2,
   "metadata": {},
   "outputs": [
    {
     "name": "stderr",
     "output_type": "stream",
     "text": [
      "2024-06-10 16:07:25,070 - pyswarms.single.global_best - INFO - Optimize for 500 iters with {'c1': 0.5, 'c2': 0.3, 'w': 0.9}\n",
      "pyswarms.single.global_best:   0%|          |0/500/home/agata/.local/lib/python3.10/site-packages/gym/utils/passive_env_checker.py:233: DeprecationWarning: `np.bool8` is a deprecated alias for `np.bool_`.  (Deprecated NumPy 1.24)\n",
      "  if not isinstance(terminated, (bool, np.bool8)):\n",
      "pyswarms.single.global_best: 100%|██████████|500/500, best_cost=2.31\n",
      "2024-06-10 16:10:14,956 - pyswarms.single.global_best - INFO - Optimization finished | best cost: 2.306033229393035, best pos: [ 1.03488056  0.51027382 -0.87437605 -1.33797778  1.50561739 -0.41076543\n",
      " -1.52755138  0.26714253 -0.11585429  0.1377352   1.20859467 -1.80403693\n",
      "  0.37554969 -1.05917622 -0.63843288 -0.08425138 -0.10667574  0.20008098\n",
      "  0.56310828  0.12812286 -0.9752329   1.87179458 -0.36628036 -0.69884233\n",
      "  0.18175847  0.82708308  0.86351725 -0.37156161 -0.50748374  0.77199999\n",
      " -1.73537118 -0.48935907 -0.57031451  1.35807309 -1.43153031 -0.50437539\n",
      " -0.87444578  0.71958992  0.88307379 -0.74596047 -0.05185731 -0.20516507\n",
      " -0.03038367 -1.07909479  0.66075525  0.38766439  1.77805016  0.16557793\n",
      " -0.32712419 -0.88584287]\n"
     ]
    },
    {
     "name": "stdout",
     "output_type": "stream",
     "text": [
      "best cos: 2.306033229393035\n",
      "best pos: [ 1.03488056  0.51027382 -0.87437605 -1.33797778  1.50561739 -0.41076543\n",
      " -1.52755138  0.26714253 -0.11585429  0.1377352   1.20859467 -1.80403693\n",
      "  0.37554969 -1.05917622 -0.63843288 -0.08425138 -0.10667574  0.20008098\n",
      "  0.56310828  0.12812286 -0.9752329   1.87179458 -0.36628036 -0.69884233\n",
      "  0.18175847  0.82708308  0.86351725 -0.37156161 -0.50748374  0.77199999\n",
      " -1.73537118 -0.48935907 -0.57031451  1.35807309 -1.43153031 -0.50437539\n",
      " -0.87444578  0.71958992  0.88307379 -0.74596047 -0.05185731 -0.20516507\n",
      " -0.03038367 -1.07909479  0.66075525  0.38766439  1.77805016  0.16557793\n",
      " -0.32712419 -0.88584287]\n"
     ]
    }
   ],
   "source": [
    "import gym\n",
    "import numpy as np\n",
    "import pyswarms as ps\n",
    "\n",
    "# Zdefiniowanie funkcji oceny (fitness function)\n",
    "def fitness_func(position):\n",
    "    env = gym.make(\"Pendulum-v1\")\n",
    "    observation, _ = env.reset()\n",
    "    total_reward = 0\n",
    "    for action in position:\n",
    "        observation, reward, terminated, truncated, _ = env.step([action])\n",
    "        total_reward += reward\n",
    "        if terminated or truncated:\n",
    "            break\n",
    "    env.close()\n",
    "    return -total_reward  # Minimalizacja funkcji celu (wartość nagrody ujemna)\n",
    "\n",
    "# Funkcja oceny dla PSO\n",
    "def f(x):\n",
    "    n_particles = x.shape[0]\n",
    "    j = np.zeros(n_particles)\n",
    "    for i in range(n_particles):\n",
    "        j[i] = fitness_func(x[i])\n",
    "    return j\n",
    "\n",
    "# Skonfigurowanie optymalizacji PSO\n",
    "x_max = [2] * 50\n",
    "x_min = [-2] * 50\n",
    "my_bounds = (x_min, x_max)\n",
    "options = {'c1': 0.5, 'c2': 0.3, 'w': 0.9}\n",
    "\n",
    "optimizer = ps.single.GlobalBestPSO(n_particles=100, dimensions=50, options=options, bounds=my_bounds)\n",
    "\n",
    "cost, pos = optimizer.optimize(f, iters=500)\n",
    "\n",
    "print(\"best cos:\", cost)\n",
    "print(\"best pos:\", pos)"
   ]
  },
  {
   "cell_type": "code",
   "execution_count": 3,
   "metadata": {},
   "outputs": [],
   "source": [
    "pos = [ 1.03488056,  0.51027382, -0.87437605, -1.33797778,  1.50561739, -0.41076543,\n",
    " -1.52755138,  0.26714253, -0.11585429,  0.1377352 ,  1.20859467, -1.80403693,\n",
    "  0.37554969, -1.05917622, -0.63843288, -0.08425138, -0.10667574,  0.20008098,\n",
    "  0.56310828,  0.12812286, -0.9752329 ,  1.87179458, -0.36628036, -0.69884233,\n",
    "  0.18175847,  0.82708308,  0.86351725, -0.37156161, -0.50748374,  0.77199999,\n",
    " -1.73537118, -0.48935907, -0.57031451,  1.35807309, -1.43153031, -0.50437539,\n",
    " -0.87444578,  0.71958992,  0.88307379, -0.74596047, -0.05185731, -0.20516507,\n",
    " -0.03038367, -1.07909479,  0.66075525,  0.38766439,  1.77805016,  0.16557793,\n",
    " -0.32712419, -0.88584287]"
   ]
  },
  {
   "cell_type": "code",
   "execution_count": 4,
   "metadata": {},
   "outputs": [
    {
     "name": "stderr",
     "output_type": "stream",
     "text": [
      "/home/agata/.local/lib/python3.10/site-packages/gym/utils/passive_env_checker.py:233: DeprecationWarning: `np.bool8` is a deprecated alias for `np.bool_`.  (Deprecated NumPy 1.24)\n",
      "  if not isinstance(terminated, (bool, np.bool8)):\n"
     ]
    }
   ],
   "source": [
    "env = gym.make(\"Pendulum-v1\", render_mode=\"human\")\n",
    "observation, info = env.reset(seed=42)\n",
    "for move in pos:\n",
    "    action = move\n",
    "    observation, reward, terminated, truncated, info = env.step([action])\n",
    "    if terminated or truncated:\n",
    "        break\n",
    "env.close()"
   ]
  }
 ],
 "metadata": {
  "kernelspec": {
   "display_name": "Python 3",
   "language": "python",
   "name": "python3"
  },
  "language_info": {
   "codemirror_mode": {
    "name": "ipython",
    "version": 3
   },
   "file_extension": ".py",
   "mimetype": "text/x-python",
   "name": "python",
   "nbconvert_exporter": "python",
   "pygments_lexer": "ipython3",
   "version": "3.10.12"
  }
 },
 "nbformat": 4,
 "nbformat_minor": 2
}
