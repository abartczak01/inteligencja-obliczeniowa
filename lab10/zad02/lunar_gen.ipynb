{
 "cells": [
  {
   "cell_type": "code",
   "execution_count": 16,
   "metadata": {},
   "outputs": [],
   "source": [
    "import pygad\n",
    "import numpy as np\n",
    "import gym\n",
    "\n",
    "env = gym.make(\"LunarLander-v2\")\n",
    "obervation, info = env.reset(seed=42)\n",
    "\n",
    "def fitness_func(model, solution, solution_idx):\n",
    "    for step in solution:\n",
    "        observation, reward, terminated, truncated, info = env.step(int(step))\n",
    "        if terminated or truncated:\n",
    "            break\n",
    "    env.reset(seed=42)\n",
    "    return reward"
   ]
  },
  {
   "cell_type": "code",
   "execution_count": 17,
   "metadata": {},
   "outputs": [],
   "source": [
    "num_generations = 100\n",
    "num_parents_mating = 10\n",
    "sol_per_pop = 60\n",
    "num_genes = 100\n",
    "keep_parents = 10\n",
    "mutation_percent_genes = 10\n",
    "\n",
    "ga_instance = pygad.GA(num_generations=num_generations,\n",
    "                       num_parents_mating=num_parents_mating,\n",
    "                       fitness_func=fitness_func,\n",
    "                       sol_per_pop=sol_per_pop,\n",
    "                       num_genes=num_genes,\n",
    "                       gene_space=[0,1,2,3],\n",
    "                       keep_parents=keep_parents,\n",
    "                       mutation_percent_genes=mutation_percent_genes)\n",
    "\n",
    "\n",
    "ga_instance.run()\n"
   ]
  },
  {
   "cell_type": "code",
   "execution_count": 18,
   "metadata": {},
   "outputs": [
    {
     "name": "stdout",
     "output_type": "stream",
     "text": [
      "Solution: [0. 2. 0. 0. 2. 0. 0. 2. 0. 0. 2. 2. 1. 3. 1. 1. 2. 1. 3. 1. 0. 1. 0. 1.\n",
      " 3. 0. 2. 1. 0. 3. 0. 1. 2. 0. 1. 0. 1. 1. 1. 1. 1. 0. 0. 3. 0. 3. 3. 3.\n",
      " 0. 0. 0. 2. 3. 2. 0. 0. 0. 3. 0. 1. 0. 0. 1. 2. 3. 0. 1. 1. 3. 0. 1. 2.\n",
      " 2. 1. 3. 1. 1. 1. 3. 1. 1. 1. 3. 3. 0. 0. 1. 3. 0. 2. 3. 2. 1. 3. 3. 0.\n",
      " 1. 3. 1. 0.]\n",
      "fitness value: 129.32631624884067\n"
     ]
    }
   ],
   "source": [
    "solution, solution_fitness, solution_idx = ga_instance.best_solution()\n",
    "print(f\"Solution: {solution}\")\n",
    "print(f\"fitness value: {solution_fitness}\")\n",
    "env.close()"
   ]
  },
  {
   "cell_type": "code",
   "execution_count": 19,
   "metadata": {},
   "outputs": [
    {
     "name": "stdout",
     "output_type": "stream",
     "text": [
      "human\n"
     ]
    }
   ],
   "source": [
    "env = gym.make(\"LunarLander-v2\", render_mode=\"human\")\n",
    "observation, info = env.reset(seed=42)\n",
    "print(env.render_mode)\n",
    "for move in solution:\n",
    "    action = move\n",
    "    observation, reward, terminated, truncated, info = env.step(int(action))\n",
    "    if terminated or truncated:\n",
    "        break\n",
    "env.close()\n"
   ]
  },
  {
   "cell_type": "markdown",
   "metadata": {},
   "source": [
    "chromosomy to lista 1000 kolejnych ruchów wykonywanych przez lander, gdzie kazdy chromosom to jedna z wartosci: 0, 1, 2, 3.\n",
    "Funckja fitness zwraca wbudowane reward (https://gymnasium.farama.org/environments/box2d/lunar_lander/#rewards):\n",
    "\n",
    "For each step, the reward:\n",
    "\n",
    "is increased/decreased the closer/further the lander is to the landing pad.\n",
    "\n",
    "is increased/decreased the slower/faster the lander is moving.\n",
    "\n",
    "is decreased the more the lander is tilted (angle not horizontal).\n",
    "\n",
    "is increased by 10 points for each leg that is in contact with the ground.\n",
    "\n",
    "is decreased by 0.03 points each frame a side engine is firing.\n",
    "\n",
    "is decreased by 0.3 points each frame the main engine is firing."
   ]
  }
 ],
 "metadata": {
  "kernelspec": {
   "display_name": "Python 3",
   "language": "python",
   "name": "python3"
  },
  "language_info": {
   "codemirror_mode": {
    "name": "ipython",
    "version": 3
   },
   "file_extension": ".py",
   "mimetype": "text/x-python",
   "name": "python",
   "nbconvert_exporter": "python",
   "pygments_lexer": "ipython3",
   "version": "3.10.12"
  }
 },
 "nbformat": 4,
 "nbformat_minor": 2
}
