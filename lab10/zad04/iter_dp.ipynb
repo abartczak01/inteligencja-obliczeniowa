{
 "cells": [
  {
   "cell_type": "markdown",
   "metadata": {},
   "source": [
    "można puścić całe od początku"
   ]
  },
  {
   "cell_type": "code",
   "execution_count": 20,
   "metadata": {},
   "outputs": [],
   "source": [
    "import numpy as np\n",
    "import tools\n",
    "import gym\n",
    "import matplotlib.pyplot as plt\n",
    "\n",
    "env = gym.make('FrozenLake8x8-v1')\n",
    "gamma = 0.99\n",
    "theta = 0.000001\n",
    "# https://github.com/SaiSugunSegu/Reinforcement-Learning-Journey"
   ]
  },
  {
   "cell_type": "code",
   "execution_count": 21,
   "metadata": {},
   "outputs": [
    {
     "data": {
      "text/plain": [
       "Discrete(4)"
      ]
     },
     "execution_count": 21,
     "metadata": {},
     "output_type": "execute_result"
    }
   ],
   "source": [
    "env.action_space #env.action_space"
   ]
  },
  {
   "cell_type": "code",
   "execution_count": 22,
   "metadata": {},
   "outputs": [
    {
     "data": {
      "text/plain": [
       "Discrete(64)"
      ]
     },
     "execution_count": 22,
     "metadata": {},
     "output_type": "execute_result"
    }
   ],
   "source": [
    "env.observation_space"
   ]
  },
  {
   "cell_type": "code",
   "execution_count": 23,
   "metadata": {},
   "outputs": [
    {
     "data": {
      "text/plain": [
       "4"
      ]
     },
     "execution_count": 23,
     "metadata": {},
     "output_type": "execute_result"
    }
   ],
   "source": [
    "env.action_space.n #env.env.nA"
   ]
  },
  {
   "cell_type": "code",
   "execution_count": 24,
   "metadata": {},
   "outputs": [
    {
     "data": {
      "text/plain": [
       "64"
      ]
     },
     "execution_count": 24,
     "metadata": {},
     "output_type": "execute_result"
    }
   ],
   "source": [
    "env.observation_space.n #env.env.nS"
   ]
  },
  {
   "cell_type": "code",
   "execution_count": 25,
   "metadata": {},
   "outputs": [
    {
     "data": {
      "text/plain": [
       "{0: [(0.3333333333333333, 0, 0.0, False),\n",
       "  (0.3333333333333333, 0, 0.0, False),\n",
       "  (0.3333333333333333, 8, 0.0, False)],\n",
       " 1: [(0.3333333333333333, 0, 0.0, False),\n",
       "  (0.3333333333333333, 8, 0.0, False),\n",
       "  (0.3333333333333333, 1, 0.0, False)],\n",
       " 2: [(0.3333333333333333, 8, 0.0, False),\n",
       "  (0.3333333333333333, 1, 0.0, False),\n",
       "  (0.3333333333333333, 0, 0.0, False)],\n",
       " 3: [(0.3333333333333333, 1, 0.0, False),\n",
       "  (0.3333333333333333, 0, 0.0, False),\n",
       "  (0.3333333333333333, 0, 0.0, False)]}"
      ]
     },
     "execution_count": 25,
     "metadata": {},
     "output_type": "execute_result"
    }
   ],
   "source": [
    "env.unwrapped.P[0] #[1] #anv.env.P[0][1] [pozycja_na_planszy][wykonywany ruch]"
   ]
  },
  {
   "cell_type": "code",
   "execution_count": 26,
   "metadata": {},
   "outputs": [],
   "source": [
    "def argmax(env, V, pi, action,s, gamma):\n",
    "    e = np.zeros(env.action_space.n)\n",
    "    for a in range(env.action_space.n):                         # iterate for every action possible \n",
    "        q=0\n",
    "        P = np.array(env.unwrapped.P[s][a])                   \n",
    "        (x,y) = np.shape(P)                             # for Bellman Equation \n",
    "        \n",
    "        for i in range(x):                              # iterate for every possible states\n",
    "            s_= int(P[i][1])                            # S' - Sprime - possible succesor states\n",
    "            p = P[i][0]                                 # Transition Probability P(s'|s,a) \n",
    "            r = P[i][2]                                 # Reward\n",
    "            \n",
    "            q += p*(r+gamma*V[s_])                      # calculate action_ value q(s|a)\n",
    "            e[a] = q\n",
    "            \n",
    "    m = np.argmax(e) \n",
    "    action[s]=m                                           # Take index which has maximum value \n",
    "    pi[s][m] = 1                                        # update pi(a|s) \n",
    "\n",
    "    return pi"
   ]
  },
  {
   "cell_type": "code",
   "execution_count": 27,
   "metadata": {},
   "outputs": [],
   "source": [
    "def bellman_optimality_update(env, V, s, gamma):  # update the stae_value V[s] by taking \n",
    "    pi = np.zeros((env.observation_space.n, env.action_space.n))       # action which maximizes current value\n",
    "    e = np.zeros(env.action_space.n)                       \n",
    "                                            # STEP1: Find \n",
    "    for a in range(env.action_space.n):             \n",
    "        q=0                                 # iterate for all possible action\n",
    "        P = np.array(env.unwrapped.P[s][a])\n",
    "        (x,y) = np.shape(P)\n",
    "        \n",
    "        for i in range(x):\n",
    "            s_= int(P[i][1])\n",
    "            p = P[i][0]\n",
    "            r = P[i][2]\n",
    "            q += p*(r+gamma*V[s_])\n",
    "            e[a] = q\n",
    "            \n",
    "    m = np.argmax(e)\n",
    "    pi[s][m] = 1\n",
    "    \n",
    "    value = 0\n",
    "    for a in range(env.action_space.n):\n",
    "        u = 0\n",
    "        P = np.array(env.unwrapped.P[s][a])\n",
    "        (x,y) = np.shape(P)\n",
    "        for i in range(x):\n",
    "            \n",
    "            s_= int(P[i][1])\n",
    "            p = P[i][0]\n",
    "            r = P[i][2]\n",
    "            \n",
    "            u += p*(r+gamma*V[s_])\n",
    "            \n",
    "        value += pi[s,a] * u\n",
    "  \n",
    "    V[s]=value\n",
    "    return V[s]"
   ]
  },
  {
   "cell_type": "code",
   "execution_count": 28,
   "metadata": {},
   "outputs": [],
   "source": [
    "def value_iteration(env, gamma, theta):\n",
    "    V = np.zeros(env.observation_space.n)                                       # initialize v(0) to arbitory value, my case \"zeros\"\n",
    "    while True:\n",
    "        delta = 0\n",
    "        for s in range(env.observation_space.n):                       # iterate for all states\n",
    "            v = V[s]\n",
    "            bellman_optimality_update(env, V, s, gamma)   # update state_value with bellman_optimality_update\n",
    "            delta = max(delta, abs(v - V[s]))             # assign the change in value per iteration to delta  \n",
    "        if delta < theta:                                       \n",
    "            break                                         # if change gets to negligible \n",
    "                                                          # --> converged to optimal value         \n",
    "    pi = np.zeros((env.observation_space.n, env.action_space.n)) \n",
    "    action = np.zeros((env.observation_space.n))\n",
    "    for s in range(env.observation_space.n):\n",
    "        pi = argmax(env, V, pi,action, s, gamma)         # extract optimal policy using action value \n",
    "        \n",
    "    return V, pi,action                                          # optimal value funtion, optimal policy\n"
   ]
  },
  {
   "cell_type": "code",
   "execution_count": 29,
   "metadata": {},
   "outputs": [],
   "source": [
    "V, pi, action = value_iteration(env, gamma, theta)\n",
    "# tools.plot(V,pi)\n",
    "# tools.plot(V, pi)"
   ]
  },
  {
   "cell_type": "code",
   "execution_count": 30,
   "metadata": {},
   "outputs": [
    {
     "name": "stdout",
     "output_type": "stream",
     "text": [
      "[[3. 2. 2. 2. 2. 2. 2. 2.]\n",
      " [3. 3. 3. 3. 3. 2. 2. 1.]\n",
      " [3. 3. 0. 0. 2. 3. 2. 1.]\n",
      " [3. 3. 3. 1. 0. 0. 2. 2.]\n",
      " [0. 3. 0. 0. 2. 1. 3. 2.]\n",
      " [0. 0. 0. 1. 3. 0. 0. 2.]\n",
      " [0. 0. 1. 0. 0. 0. 0. 2.]\n",
      " [0. 1. 0. 0. 1. 2. 1. 0.]]\n"
     ]
    }
   ],
   "source": [
    "a= np.reshape(action,(8,8))\n",
    "print(a)   "
   ]
  },
  {
   "cell_type": "code",
   "execution_count": 31,
   "metadata": {},
   "outputs": [
    {
     "name": "stdout",
     "output_type": "stream",
     "text": [
      "[3. 2. 2. 2. 2. 2. 2. 2. 3. 3. 3. 3. 3. 2. 2. 1. 3. 3. 0. 0. 2. 3. 2. 1.\n",
      " 3. 3. 3. 1. 0. 0. 2. 2. 0. 3. 0. 0. 2. 1. 3. 2. 0. 0. 0. 1. 3. 0. 0. 2.\n",
      " 0. 0. 1. 0. 0. 0. 0. 2. 0. 1. 0. 0. 1. 2. 1. 0.]\n"
     ]
    }
   ],
   "source": [
    "print(action)"
   ]
  },
  {
   "cell_type": "code",
   "execution_count": 33,
   "metadata": {},
   "outputs": [
    {
     "name": "stdout",
     "output_type": "stream",
     "text": [
      "agent succeeded to reach goal 100 out of 100 Episodes using this policy \n"
     ]
    }
   ],
   "source": [
    "env = gym.make('FrozenLake8x8-v1')\n",
    "e=0\n",
    "for i_episode in range(100):\n",
    "    observation, info = env.reset(seed=42)\n",
    "    for t in range(80):\n",
    "        # print(action[observation])\n",
    "        observation, reward, terminated, truncated, info = env.step(int(action[observation]))\n",
    "        if terminated or truncated:\n",
    "            # print(t)\n",
    "            if reward == 1:\n",
    "                e +=1\n",
    "            break\n",
    "print(f\"agent succeeded to reach goal {e} out of 100 Episodes using this policy \")\n",
    "env.close()\n"
   ]
  }
 ],
 "metadata": {
  "kernelspec": {
   "display_name": "Python 3",
   "language": "python",
   "name": "python3"
  },
  "language_info": {
   "codemirror_mode": {
    "name": "ipython",
    "version": 3
   },
   "file_extension": ".py",
   "mimetype": "text/x-python",
   "name": "python",
   "nbconvert_exporter": "python",
   "pygments_lexer": "ipython3",
   "version": "3.10.12"
  }
 },
 "nbformat": 4,
 "nbformat_minor": 2
}
