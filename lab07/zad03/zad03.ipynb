{
 "cells": [
  {
   "cell_type": "code",
   "execution_count": 37,
   "metadata": {},
   "outputs": [],
   "source": [
    "from ntscraper import Nitter\n",
    "import csv"
   ]
  },
  {
   "cell_type": "code",
   "execution_count": 11,
   "metadata": {},
   "outputs": [
    {
     "name": "stderr",
     "output_type": "stream",
     "text": [
      "Testing instances: 100%|██████████| 77/77 [01:01<00:00,  1.26it/s]\n"
     ]
    }
   ],
   "source": [
    "scraper = Nitter()"
   ]
  },
  {
   "cell_type": "code",
   "execution_count": null,
   "metadata": {},
   "outputs": [
    {
     "name": "stdout",
     "output_type": "stream",
     "text": [
      "26-May-24 15:18:45 - No instance specified, using random instance https://nitter.privacydev.net\n",
      "26-May-24 15:18:49 - Current stats for elonmusk: 20 tweets, 0 threads...\n",
      "26-May-24 15:18:53 - Current stats for elonmusk: 40 tweets, 0 threads...\n",
      "26-May-24 15:18:57 - Current stats for elonmusk: 60 tweets, 0 threads...\n",
      "26-May-24 15:18:59 - Empty page on https://nitter.privacydev.net\n"
     ]
    }
   ],
   "source": [
    "tweets = scraper.get_tweets(\"elonmusk\", mode='user')"
   ]
  },
  {
   "cell_type": "code",
   "execution_count": 34,
   "metadata": {},
   "outputs": [
    {
     "data": {
      "text/plain": [
       "60"
      ]
     },
     "execution_count": 34,
     "metadata": {},
     "output_type": "execute_result"
    }
   ],
   "source": [
    "len(tweets[\"tweets\"])"
   ]
  },
  {
   "cell_type": "code",
   "execution_count": 38,
   "metadata": {},
   "outputs": [
    {
     "name": "stdout",
     "output_type": "stream",
     "text": [
      "Dane zapisane do pliku tweets.csv\n"
     ]
    }
   ],
   "source": [
    "tweets_data = tweets[\"tweets\"]\n",
    "\n",
    "fields = [\"Username\", \"Name\", \"Text\", \"Date\", \"Comments\", \"Retweets\", \"Quotes\", \"Likes\"]\n",
    "\n",
    "with open(\"tweets.csv\", mode=\"w+\", newline=\"\", encoding=\"utf-8\") as file:\n",
    "    writer = csv.DictWriter(file, fieldnames=fields)\n",
    "\n",
    "    writer.writeheader()\n",
    "\n",
    "    for tweet in tweets_data:\n",
    "        writer.writerow({\n",
    "            \"Username\": tweet[\"user\"][\"username\"],\n",
    "            \"Name\": tweet[\"user\"][\"name\"],\n",
    "            \"Text\": tweet[\"text\"],\n",
    "            \"Date\": tweet[\"date\"],\n",
    "            \"Comments\": tweet[\"stats\"][\"comments\"],\n",
    "            \"Retweets\": tweet[\"stats\"][\"retweets\"],\n",
    "            \"Quotes\": tweet[\"stats\"][\"quotes\"],\n",
    "            \"Likes\": tweet[\"stats\"][\"likes\"]\n",
    "        })\n",
    "\n",
    "print(\"Dane zapisane do pliku tweets.csv\")"
   ]
  }
 ],
 "metadata": {
  "kernelspec": {
   "display_name": "Python 3",
   "language": "python",
   "name": "python3"
  },
  "language_info": {
   "codemirror_mode": {
    "name": "ipython",
    "version": 3
   },
   "file_extension": ".py",
   "mimetype": "text/x-python",
   "name": "python",
   "nbconvert_exporter": "python",
   "pygments_lexer": "ipython3",
   "version": "3.10.12"
  }
 },
 "nbformat": 4,
 "nbformat_minor": 2
}
